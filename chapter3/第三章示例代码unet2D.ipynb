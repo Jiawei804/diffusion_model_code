{
 "cells": [
  {
   "cell_type": "code",
   "execution_count": 1,
   "metadata": {},
   "outputs": [
    {
     "name": "stdout",
     "output_type": "stream",
     "text": [
      "Using device: cuda\n"
     ]
    }
   ],
   "source": [
    "import torch\n",
    "import torchvision\n",
    "from torch import nn\n",
    "from torch.nn import functional as F\n",
    "from torch.utils.data import DataLoader\n",
    "from diffusers import DDPMScheduler, UNet2DModel\n",
    "from matplotlib import pyplot as plt\n",
    "\n",
    "device = torch.device('cuda' if torch.cuda.is_available() else 'cpu')\n",
    "print(f'Using device: {device}')"
   ]
  },
  {
   "cell_type": "code",
   "execution_count": 2,
   "metadata": {},
   "outputs": [],
   "source": [
    "net = UNet2DModel(sample_size=28,\n",
    "                    in_channels=1,\n",
    "                    out_channels=1,\n",
    "                    layers_per_block=2,\n",
    "                    block_out_channels=(32, 64, 64),\n",
    "                    down_block_types=(\n",
    "                        \"DownBlock2D\",\n",
    "                        \"AttnDownBlock2D\",\n",
    "                        \"AttnDownBlock2D\",\n",
    "                    ),\n",
    "                    up_block_types=(\n",
    "                        \"AttnUpBlock2D\",\n",
    "                        \"AttnUpBlock2D\",\n",
    "                        \"UpBlock2D\",\n",
    "                    ),\n",
    ")"
   ]
  },
  {
   "cell_type": "code",
   "execution_count": 3,
   "metadata": {},
   "outputs": [
    {
     "name": "stdout",
     "output_type": "stream",
     "text": [
      "input shape: torch.Size([8, 1, 28, 28])\n",
      "labels: tensor([7, 0, 0, 8, 8, 5, 4, 8])\n"
     ]
    },
    {
     "data": {
      "text/plain": [
       "<matplotlib.image.AxesImage at 0x1c192664df0>"
      ]
     },
     "execution_count": 3,
     "metadata": {},
     "output_type": "execute_result"
    },
    {
     "data": {
      "image/png": "[encoded data removed]",
      "text/plain": [
       "<Figure size 640x480 with 1 Axes>"
      ]
     },
     "metadata": {},
     "output_type": "display_data"
    }
   ],
   "source": [
    "dataset = torchvision.datasets.MNIST(root=\"mnist/\",\n",
    "                                     train=True,\n",
    "                                     transform=torchvision.transforms.ToTensor(),\n",
    "                                     download=True)\n",
    "train_loader = DataLoader(dataset=dataset, batch_size=8, shuffle=True)\n",
    "x, y = next(iter(train_loader))\n",
    "print('input shape:', x.shape)\n",
    "print('labels:', y)\n",
    "plt.imshow(torchvision.utils.make_grid(x)[0], cmap='Greys')"
   ]
  },
  {
   "cell_type": "code",
   "execution_count": 4,
   "metadata": {},
   "outputs": [],
   "source": [
    "def corrupt(x, amount):\n",
    "    noise = torch.rand_like(x) # rand_like: 返回一个与输入形状相同的张量，其中元素取自0到1的均匀分布\n",
    "    amount = amount.view(-1, 1, 1, 1) # view: 改变张量的形状\n",
    "    return (1-amount) * x + amount * noise"
   ]
  },
  {
   "cell_type": "code",
   "execution_count": null,
   "metadata": {},
   "outputs": [],
   "source": [
    "batch_size = 64\n",
    "n_epochs = 3\n",
    "train_dataloader = DataLoader(dataset=dataset, batch_size=batch_size, shuffle=True)\n",
    "\n",
    "net.to(device)\n",
    "# 指定损失函数\n",
    "loss_fn = nn.MSELoss()\n",
    "# 指定优化器\n",
    "opt = torch.optim.Adam(net.parameters(), lr=1e-3)\n",
    "# 记录训练过程中的损失值\n",
    "losses = [] \n",
    "# 训练\n",
    "for epoch in range(n_epochs):\n",
    "    for x, y in train_dataloader:\n",
    "        x = x.to(device)\n",
    "        noise_amount = torch.rand(x.shape[0]).to(device)\n",
    "        \n",
    "        noisy_x = corrupt(x, noise_amount)\n",
    "        \n",
    "        pred = net(noisy_x, 0)\n",
    "        \n",
    "        loss = loss_fn(pred, x)\n",
    "        \n",
    "        opt.zero_grad()\n",
    "        loss.backward()\n",
    "        opt.step()\n",
    "        \n",
    "        losses.append(loss.item())\n",
    "        \n",
    "    avg_loss = sum(losses[-len(train_dataloader):]) / len(train_dataloader)\n",
    "    print(f'Finished epoch {epoch+1}/{n_epochs} | Average Loss: {avg_loss:.4f}')\n",
    "    \n",
    "plt.plot(losses)\n",
    "plt.ylim(0, 0.1)\n",
    "plt.show()"
   ]
  },
  {
   "cell_type": "code",
   "execution_count": null,
   "metadata": {},
   "outputs": [],
   "source": [
    "# 采样\n",
    "n_steps = 40\n",
    "x = torch.rand(64, 1, 28, 28).to(device)\n",
    "for i in range(n_steps):\n",
    "    noise_amount = torch.ones((x.shape[0], )).to(device) * (1-(i/n_steps))\n",
    "\n",
    "    with torch.no_grad():\n",
    "        pred = net(x, 0).sample\n",
    "    mix_factor = 1/(n_steps - i)\n",
    "    x = x*(1-mix_factor) + pred*mix_factor\n",
    "\n",
    "\n",
    "_, axs = plt.subplots(1, 2, figsize=(10, 5))\n",
    "\n",
    "axs[0].plot(losses)\n",
    "axs[0].ylim(0, 0.1)\n",
    "\n",
    "axs[1].imshow(torchvision.utils.make_grid(x.detach().cpu(), nrow=8)[0].clip(0, 1), cmap='Greys')\n",
    "axs[1].set_title('Generated Samples')"
   ]
  },
  {
   "cell_type": "code",
   "execution_count": null,
   "metadata": {},
   "outputs": [],
   "source": [
    "noise_scheduler = DDPMScheduler(num_train_timesteps=1000)\n",
    "plt.plot(noise_scheduler.alphas_cumprod.cpu() ** 0.5, \n",
    "         label=r\"${\\sqrt{\\bar{\\alpha}_t}}$\")\n",
    "plt.plot((1 - noise_scheduler.alphas_cumprod.cpu()) ** 0.5, \n",
    "         label=r\"${\\sqrt{1 - \\bar{\\alpha}_t}}$\")\n",
    "plt.legend(fontsize=\"x-large\")"
   ]
  },
  {
   "cell_type": "code",
   "execution_count": null,
   "metadata": {},
   "outputs": [],
   "source": [
    "\n",
    "fig, axs = plt.subplots(3, 1, figsize=(16, 10))\n",
    "xb, yb = next(iter(train_dataloader))\n",
    "xb = xb.to(device)[:8]\n",
    "xb = xb * 2. - 1. # 映射到(-1, 1)\n",
    "print('X shape', xb.shape)\n",
    "\n",
    "axs[0].imshow(torchvision.utils.make_grid(xb[:8])[0].detach().cpu(), cmap='Greys')\n",
    "axs[0].set_title('Clean X')\n",
    "\n",
    "timesteps = torch.linspace(0, 999, 8).long().to(device)\n",
    "noise = torch.randn_like(xb)\n",
    "noisy_xb = noise_scheduler.add_noise(xb, noise, timesteps)\n",
    "print('Noisy X shape', noisy_xb.shape)\n",
    "\n",
    "axs[1].imshow(torchvision.utils.make_grid(noisy_xb[:8])[0].detach().cpu().clip(-1, 1), cmap='Greys')\n",
    "axs[1].set_title('Noise X (clipped to (-1, 1))')\n",
    "\n",
    "axs[2].imshow(torchvision.utils.make_grid(noisy_xb[:8])[0].detach().cpu(), cmap='Greys')\n",
    "axs[2].set_title('Noisy X')\n"
   ]
  },
  {
   "cell_type": "code",
   "execution_count": null,
   "metadata": {},
   "outputs": [],
   "source": [
    "mse_loss = nn.MSELoss()\n",
    "model = net\n",
    "\n",
    "noise = torch.randn_like(xb)\n",
    "noisy_x = noise_scheduler.add_noise(x, noise, timesteps)\n",
    "model_prediction = model(noisy_x, timesteps).sample\n",
    "loss = mse_loss(model_prediction, noise)"
   ]
  }
 ],
 "metadata": {
  "kernelspec": {
   "display_name": "Python 3",
   "language": "python",
   "name": "python3"
  },
  "language_info": {
   "codemirror_mode": {
    "name": "ipython",
    "version": 3
   },
   "file_extension": ".py",
   "mimetype": "text/x-python",
   "name": "python",
   "nbconvert_exporter": "python",
   "pygments_lexer": "ipython3",
   "version": "3.10.5"
  }
 },
 "nbformat": 4,
 "nbformat_minor": 2
}
